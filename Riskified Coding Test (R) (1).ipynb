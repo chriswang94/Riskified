{
 "cells": [
  {
   "cell_type": "markdown",
   "metadata": {},
   "source": [
    "# Riskified\n",
    "## Coding Exercise (in R)\n",
    "\n",
    "##### Author: Chris Wang  \n",
    "\n",
    "The purpose of this notebook is to answer the following questions about the provided data set, \"Analyst_Coding_Test_(1).csv\":\n",
    "1. Draw a boxplot showing the area size distribution for each shape.\n",
    "2. Calculate the mean, max, and standard deviation of the area size of each color.\n",
    "3. What is the average area size of a yellow square?\n",
    "4. Which shape is most likely to be green?\n",
    "5. Given the fact the the object is red, with an area size larger than 3,000 - what are the chances the object is a square? a triangle? a circle?\n",
    "6. Write a function that calculates the side or radios of an object, depending on the shape and area of the object [for an Equilateral triangle - area = (side ^ 2) * sqrt(3) / 4].\n",
    "7. Add a column to the dataset called \"side\" that shows the size matching the area in each row, round that number to the closest integer (shape side or radios).\n",
    "8. Draw a boxplot showing the side size distribution for each shape - what can you infer from this plot?\n",
    "9. Make a scatter plot with \"side\" on the x axis, \"area\" on the y axis with a different color for each shape.\n",
    "10. Create a dataframe, table or list that show for each shape:\n",
    "          a. The proportion of red objects within the shape\n",
    "          b. The proportion of blue area out of the shape's total area (sum of square inch blue area of the shape over sum of all shape size).\n",
    "11. Create a function that calculates 10. b. for a given shape and color.\n",
    "\n",
    "----\n",
    "----"
   ]
  },
  {
   "cell_type": "code",
   "execution_count": 1,
   "metadata": {},
   "outputs": [],
   "source": [
    "library(plyr)\n",
    "library(ggplot2)"
   ]
  },
  {
   "cell_type": "code",
   "execution_count": 2,
   "metadata": {},
   "outputs": [],
   "source": [
    "# read in data\n",
    "data <- read.csv(file=\"Analyst_Coding_Test_(1).csv\", header=TRUE, sep=\",\")"
   ]
  },
  {
   "cell_type": "markdown",
   "metadata": {},
   "source": [
    "## 1. Draw a boxplot showing the area size distribution for each shape."
   ]
  },
  {
   "cell_type": "code",
   "execution_count": 3,
   "metadata": {},
   "outputs": [
    {
     "data": {
      "image/png": "[encoded data removed]",
      "text/plain": [
       "Plot with title “Area of Shapes”"
      ]
     },
     "metadata": {},
     "output_type": "display_data",
     "source": "R display func"
    }
   ],
   "source": [
    "boxplot(area ~ shape, data = data, main=\"Area of Shapes\", font.main=3, cex.main=1.2, xlab=\"Shape\", ylab=\"Area\")"
   ]
  },
  {
   "cell_type": "markdown",
   "metadata": {},
   "source": [
    "## 2. Calculate the mean, max, and standard deviation of the area size of each color."
   ]
  },
  {
   "cell_type": "code",
   "execution_count": 4,
   "metadata": {},
   "outputs": [
    {
     "data": {
      "text/html": [
       "<table>\n",
       "<thead><tr><th scope=col>color</th><th scope=col>mean</th><th scope=col>max</th><th scope=col>std</th></tr></thead>\n",
       "<tbody>\n",
       "\t<tr><td>blue    </td><td>3208.132</td><td>21642.4 </td><td>3039.213</td></tr>\n",
       "\t<tr><td>green   </td><td>5761.119</td><td>27759.1 </td><td>6695.030</td></tr>\n",
       "\t<tr><td>red     </td><td>3815.871</td><td>31415.9 </td><td>5092.678</td></tr>\n",
       "\t<tr><td>yellow  </td><td>4538.208</td><td>31415.9 </td><td>5352.461</td></tr>\n",
       "</tbody>\n",
       "</table>\n"
      ],
      "text/latex": [
       "\\begin{tabular}{r|llll}\n",
       " color & mean & max & std\\\\\n",
       "\\hline\n",
       "\t blue     & 3208.132 & 21642.4  & 3039.213\\\\\n",
       "\t green    & 5761.119 & 27759.1  & 6695.030\\\\\n",
       "\t red      & 3815.871 & 31415.9  & 5092.678\\\\\n",
       "\t yellow   & 4538.208 & 31415.9  & 5352.461\\\\\n",
       "\\end{tabular}\n"
      ],
      "text/markdown": [
       "\n",
       "color | mean | max | std | \n",
       "|---|---|---|---|\n",
       "| blue     | 3208.132 | 21642.4  | 3039.213 | \n",
       "| green    | 5761.119 | 27759.1  | 6695.030 | \n",
       "| red      | 3815.871 | 31415.9  | 5092.678 | \n",
       "| yellow   | 4538.208 | 31415.9  | 5352.461 | \n",
       "\n",
       "\n"
      ],
      "text/plain": [
       "  color  mean     max     std     \n",
       "1 blue   3208.132 21642.4 3039.213\n",
       "2 green  5761.119 27759.1 6695.030\n",
       "3 red    3815.871 31415.9 5092.678\n",
       "4 yellow 4538.208 31415.9 5352.461"
      ]
     },
     "metadata": {},
     "output_type": "display_data"
    }
   ],
   "source": [
    "ddply(data, c('color'), summarise, mean = mean(area), max = max(area), std = sd(area))"
   ]
  },
  {
   "cell_type": "markdown",
   "metadata": {},
   "source": [
    "## 3. What is the average area size of a yellow square?"
   ]
  },
  {
   "cell_type": "code",
   "execution_count": 5,
   "metadata": {},
   "outputs": [
    {
     "name": "stdout",
     "output_type": "stream",
     "text": [
      "The average area of the yellow squares is: 3333.207"
     ]
    }
   ],
   "source": [
    "yellowSquare = subset(data, color == 'yellow' & shape == 'square')\n",
    "yellowSquare_avg = mean(yellowSquare$area)\n",
    "cat('The average area of the yellow squares is:', yellowSquare_avg)"
   ]
  },
  {
   "cell_type": "markdown",
   "metadata": {},
   "source": [
    "## 4. Which shape is most likely to be green?\n",
    "(Interpreted as: Which shape has the highest chance of being green?)"
   ]
  },
  {
   "cell_type": "code",
   "execution_count": 6,
   "metadata": {},
   "outputs": [
    {
     "name": "stdout",
     "output_type": "stream",
     "text": [
      "The circle has the highest chance of being green with a chance of 25.83%."
     ]
    }
   ],
   "source": [
    "# calculate total count per shape\n",
    "byShape = ddply(data, c('shape'), summarise, total_count = length(area))\n",
    "\n",
    "# calculate count per shape, per color\n",
    "byShapeColor = ddply(data, c('shape', 'color'), summarise, count = length(area))\n",
    "\n",
    "# join and calculate proportion of colors per shape\n",
    "byShapeColor = merge(x=byShapeColor, y=byShape, by='shape')\n",
    "byShapeColor$percent_of_total <- (byShapeColor$count / byShapeColor$total_count) * 100\n",
    "\n",
    "# filter for green, sort descending\n",
    "byShapeColor_green = subset(byShapeColor, color == 'green')\n",
    "byShapeColor_green = byShapeColor_green[order(byShapeColor_green$percent_of_total, decreasing = TRUE),]\n",
    "\n",
    "# extract shape\n",
    "shape = toString(byShapeColor_green[['shape']][1])\n",
    "chance = paste(toString(round(byShapeColor_green[['percent_of_total']][1], digits = 2)),'%.', sep='')\n",
    "cat('The', shape, 'has the highest chance of being green with a chance of', chance)"
   ]
  },
  {
   "cell_type": "markdown",
   "metadata": {},
   "source": [
    "# 5. Given the fact the the object is red, with an area size larger than 3,000 - what are the chances the object is a square? a triangle? a circle?"
   ]
  },
  {
   "cell_type": "code",
   "execution_count": 7,
   "metadata": {},
   "outputs": [
    {
     "data": {
      "text/html": [
       "<table>\n",
       "<thead><tr><th scope=col>shape</th><th scope=col>chance</th></tr></thead>\n",
       "<tbody>\n",
       "\t<tr><td>circle  </td><td>16.0    </td></tr>\n",
       "\t<tr><td>square  </td><td>16.8    </td></tr>\n",
       "\t<tr><td>triangle</td><td>67.2    </td></tr>\n",
       "</tbody>\n",
       "</table>\n"
      ],
      "text/latex": [
       "\\begin{tabular}{r|ll}\n",
       " shape & chance\\\\\n",
       "\\hline\n",
       "\t circle   & 16.0    \\\\\n",
       "\t square   & 16.8    \\\\\n",
       "\t triangle & 67.2    \\\\\n",
       "\\end{tabular}\n"
      ],
      "text/markdown": [
       "\n",
       "shape | chance | \n",
       "|---|---|---|\n",
       "| circle   | 16.0     | \n",
       "| square   | 16.8     | \n",
       "| triangle | 67.2     | \n",
       "\n",
       "\n"
      ],
      "text/plain": [
       "  shape    chance\n",
       "1 circle   16.0  \n",
       "2 square   16.8  \n",
       "3 triangle 67.2  "
      ]
     },
     "metadata": {},
     "output_type": "display_data"
    }
   ],
   "source": [
    "# filter for red objects with area > 3,000\n",
    "largeRed = subset(data, color == 'red' & area > 3000)\n",
    "\n",
    "# calculate total count per shape\n",
    "largeRed_byShape = ddply(largeRed, c('shape'), summarise, count = length(area))\n",
    "\n",
    "# calculate total count\n",
    "largeRed_total = sum(largeRed_byShape$count)\n",
    "\n",
    "# calculate proportion of colors per shape\n",
    "largeRed_byShape$chance = largeRed_byShape$count / largeRed_total * 100\n",
    "\n",
    "# print\n",
    "largeRed_byShape[, c('shape','chance')]"
   ]
  },
  {
   "cell_type": "markdown",
   "metadata": {},
   "source": [
    "## 6. Write a function that calculates the side or radios of an object, depending on the shape and area of the object [for an Equilateral triangle - area = (side ^ 2) * sqrt(3) / 4].\n",
    "(Interpreting as: provide side length for square and triangle, radius for circle)"
   ]
  },
  {
   "cell_type": "code",
   "execution_count": 8,
   "metadata": {},
   "outputs": [],
   "source": [
    "getSide <- function(shape, area){\n",
    "    # input: shape and area\n",
    "    # output: length of side if square or equilateral triangle; length of radius if circle\n",
    "    \n",
    "    if (area < 0){\n",
    "        return('Invalid area')\n",
    "    }\n",
    "    \n",
    "    if (shape == 'square'){\n",
    "        return(sqrt(area))\n",
    "    }\n",
    "    else if(shape == 'circle'){\n",
    "        return(sqrt(area/pi))\n",
    "    }\n",
    "    else if (shape == 'triangle'){\n",
    "        return(sqrt((area * 4) / sqrt(3)))\n",
    "    }\n",
    "    else{\n",
    "        return('Unknown shape')\n",
    "    }\n",
    "}"
   ]
  },
  {
   "cell_type": "markdown",
   "metadata": {},
   "source": [
    "## 7. Add a column to the dataset called \"side\" that shows the size matching the area in each row, round that number to the closest integer (shape side or radios)"
   ]
  },
  {
   "cell_type": "code",
   "execution_count": 9,
   "metadata": {},
   "outputs": [
    {
     "data": {
      "text/html": [
       "<table>\n",
       "<thead><tr><th scope=col>shape</th><th scope=col>color</th><th scope=col>area</th><th scope=col>side</th></tr></thead>\n",
       "<tbody>\n",
       "\t<tr><td>square  </td><td>yellow  </td><td>9409.0  </td><td> 97     </td></tr>\n",
       "\t<tr><td>circle  </td><td>yellow  </td><td>4071.5  </td><td> 36     </td></tr>\n",
       "\t<tr><td>triangle</td><td>blue    </td><td>2028.0  </td><td> 68     </td></tr>\n",
       "\t<tr><td>square  </td><td>blue    </td><td>3025.0  </td><td> 55     </td></tr>\n",
       "\t<tr><td>square  </td><td>blue    </td><td>9216.0  </td><td> 96     </td></tr>\n",
       "\t<tr><td>square  </td><td>yellow  </td><td>4356.0  </td><td> 66     </td></tr>\n",
       "\t<tr><td>circle  </td><td>yellow  </td><td>  78.5  </td><td>  5     </td></tr>\n",
       "\t<tr><td>triangle</td><td>red     </td><td>4563.0  </td><td>103     </td></tr>\n",
       "\t<tr><td>square  </td><td>yellow  </td><td>1156.0  </td><td> 34     </td></tr>\n",
       "\t<tr><td>triangle</td><td>red     </td><td>5043.0  </td><td>108     </td></tr>\n",
       "</tbody>\n",
       "</table>\n"
      ],
      "text/latex": [
       "\\begin{tabular}{r|llll}\n",
       " shape & color & area & side\\\\\n",
       "\\hline\n",
       "\t square   & yellow   & 9409.0   &  97     \\\\\n",
       "\t circle   & yellow   & 4071.5   &  36     \\\\\n",
       "\t triangle & blue     & 2028.0   &  68     \\\\\n",
       "\t square   & blue     & 3025.0   &  55     \\\\\n",
       "\t square   & blue     & 9216.0   &  96     \\\\\n",
       "\t square   & yellow   & 4356.0   &  66     \\\\\n",
       "\t circle   & yellow   &   78.5   &   5     \\\\\n",
       "\t triangle & red      & 4563.0   & 103     \\\\\n",
       "\t square   & yellow   & 1156.0   &  34     \\\\\n",
       "\t triangle & red      & 5043.0   & 108     \\\\\n",
       "\\end{tabular}\n"
      ],
      "text/markdown": [
       "\n",
       "shape | color | area | side | \n",
       "|---|---|---|---|---|---|---|---|---|---|\n",
       "| square   | yellow   | 9409.0   |  97      | \n",
       "| circle   | yellow   | 4071.5   |  36      | \n",
       "| triangle | blue     | 2028.0   |  68      | \n",
       "| square   | blue     | 3025.0   |  55      | \n",
       "| square   | blue     | 9216.0   |  96      | \n",
       "| square   | yellow   | 4356.0   |  66      | \n",
       "| circle   | yellow   |   78.5   |   5      | \n",
       "| triangle | red      | 4563.0   | 103      | \n",
       "| square   | yellow   | 1156.0   |  34      | \n",
       "| triangle | red      | 5043.0   | 108      | \n",
       "\n",
       "\n"
      ],
      "text/plain": [
       "   shape    color  area   side\n",
       "1  square   yellow 9409.0  97 \n",
       "2  circle   yellow 4071.5  36 \n",
       "3  triangle blue   2028.0  68 \n",
       "4  square   blue   3025.0  55 \n",
       "5  square   blue   9216.0  96 \n",
       "6  square   yellow 4356.0  66 \n",
       "7  circle   yellow   78.5   5 \n",
       "8  triangle red    4563.0 103 \n",
       "9  square   yellow 1156.0  34 \n",
       "10 triangle red    5043.0 108 "
      ]
     },
     "metadata": {},
     "output_type": "display_data"
    }
   ],
   "source": [
    "data$side = round(mapply(getSide, data$shape, data$area))\n",
    "data[1:10,]"
   ]
  },
  {
   "cell_type": "markdown",
   "metadata": {},
   "source": [
    "## 8. Draw a boxplot showing the side size distribution for each shape - what can you infer from this plot?"
   ]
  },
  {
   "cell_type": "code",
   "execution_count": 10,
   "metadata": {},
   "outputs": [
    {
     "data": {
      "image/png": "[encoded data removed]",
      "text/plain": [
       "Plot with title “Sides of Shapes”"
      ]
     },
     "metadata": {},
     "output_type": "display_data",
     "source": "R display func"
    }
   ],
   "source": [
    "boxplot(side ~ shape, data = data, main=\"Sides of Shapes\", font.main=3, cex.main=1.2, xlab=\"Shape\", ylab=\"Side Length\")"
   ]
  },
  {
   "cell_type": "markdown",
   "metadata": {},
   "source": [
    "Based on the above plot, I can infer the following pertaining to shape side sizes:\n",
    "1. the shape with the largest range, interquartile range, median, and maximum is the circle\n",
    "2. the distributions of the squares and circles skew slightly toward the larger side whereas the triangles skew slightly toward the smaller side (i.e. the smaller sides of squares tend to be closer than the larger sides and the same for circles)\n",
    "3. the minimums for all three shapes are similar, hovering around zero\n",
    "4. on average, the largest shape is the circle and the smallest shape is the square\n",
    "5. squares have the smallest distribution as well as smallest interquartile range and, therefore, the least amount of variability\n",
    "6. there do not appear to be any outliers for any shapes\n",
    "\n",
    "More technically speaking:\n",
    "1. 50% of all squares have a side length of between approx. 25 inches to 75 inches\n",
    "2. 50% of all circles have a side length of between approx. 50 inches to 90 inches\n",
    "3. 50% of all circles have a side length of between approx. 35 inches to 100 inches\n",
    "\n",
    "I would also be able to deduce that, given an object with an area larger than approx. 130 inches, that object is a circle."
   ]
  },
  {
   "cell_type": "markdown",
   "metadata": {},
   "source": [
    "## 9. Make a scatter plot with \"side\" on the x axis, \"area\" on the y axis with a different color for each shape."
   ]
  },
  {
   "cell_type": "code",
   "execution_count": 11,
   "metadata": {},
   "outputs": [
    {
     "data": {
      "image/png": "[encoded data removed]",
      "text/plain": [
       "plot without title"
      ]
     },
     "metadata": {},
     "output_type": "display_data",
     "source": "R display func"
    }
   ],
   "source": [
    "print(ggplot(data, aes(x=side, y=area, color=shape)) + geom_point() + ggtitle('Area vs Side of Shapes') \n",
    "      + theme(plot.title = element_text(hjust = 0.5)))"
   ]
  },
  {
   "cell_type": "markdown",
   "metadata": {},
   "source": [
    "## 10. Create a dataframe, table or list that show for each shape:  \n",
    "  a. The proportion of red objects within the shape  \n",
    "  b. The proportion of blue area out of the shape's total area (sum of square inch blue area of the shape over sum of all shape size).  "
   ]
  },
  {
   "cell_type": "code",
   "execution_count": 12,
   "metadata": {},
   "outputs": [
    {
     "data": {
      "text/html": [
       "<table>\n",
       "<thead><tr><th scope=col>shape</th><th scope=col>proportion_of_red_objects</th><th scope=col>proportion_of_blue_area</th></tr></thead>\n",
       "<tbody>\n",
       "\t<tr><td>circle    </td><td>0.2500000 </td><td>0.06124595</td></tr>\n",
       "\t<tr><td>square    </td><td>0.1174004 </td><td>0.36038508</td></tr>\n",
       "\t<tr><td>triangle  </td><td>0.5062035 </td><td>0.47388559</td></tr>\n",
       "</tbody>\n",
       "</table>\n"
      ],
      "text/latex": [
       "\\begin{tabular}{r|lll}\n",
       " shape & proportion\\_of\\_red\\_objects & proportion\\_of\\_blue\\_area\\\\\n",
       "\\hline\n",
       "\t circle     & 0.2500000  & 0.06124595\\\\\n",
       "\t square     & 0.1174004  & 0.36038508\\\\\n",
       "\t triangle   & 0.5062035  & 0.47388559\\\\\n",
       "\\end{tabular}\n"
      ],
      "text/markdown": [
       "\n",
       "shape | proportion_of_red_objects | proportion_of_blue_area | \n",
       "|---|---|---|\n",
       "| circle     | 0.2500000  | 0.06124595 | \n",
       "| square     | 0.1174004  | 0.36038508 | \n",
       "| triangle   | 0.5062035  | 0.47388559 | \n",
       "\n",
       "\n"
      ],
      "text/plain": [
       "  shape    proportion_of_red_objects proportion_of_blue_area\n",
       "1 circle   0.2500000                 0.06124595             \n",
       "2 square   0.1174004                 0.36038508             \n",
       "3 triangle 0.5062035                 0.47388559             "
      ]
     },
     "metadata": {},
     "output_type": "display_data"
    }
   ],
   "source": [
    "# total count of red shapes per shape\n",
    "red = subset(data, color == 'red')\n",
    "red_count = ddply(red, c('shape'), summarise, red_count = length(area))\n",
    "\n",
    "# total sum area of blue shapes per shape\n",
    "blue = subset(data, color == 'blue')\n",
    "blue_count = ddply(blue, c('shape'), summarise, blue_sum = sum(area))\n",
    "\n",
    "# total count and sum of areas by shape\n",
    "byShape_countSum = ddply(data, c('shape'), summarise, total_count = length(area), total_sum = sum(area))\n",
    "\n",
    "# join all data\n",
    "byShape_countSum_red_blue = Reduce(function(x, y) merge(x, y, all=TRUE, by='shape'), list(byShape_countSum, red_count, blue_count))\n",
    "\n",
    "# calculate proportions\n",
    "byShape_countSum_red_blue$proportion_of_red_objects = byShape_countSum_red_blue$red_count / byShape_countSum_red_blue$total_count\n",
    "byShape_countSum_red_blue$proportion_of_blue_area = byShape_countSum_red_blue$blue_sum / byShape_countSum_red_blue$total_sum\n",
    "                           \n",
    "# trim irrelevant columns\n",
    "byShape_countSum_red_blue = byShape_countSum_red_blue[,c('shape', 'proportion_of_red_objects', 'proportion_of_blue_area')]\n",
    "byShape_countSum_red_blue"
   ]
  },
  {
   "cell_type": "markdown",
   "metadata": {},
   "source": [
    "## 11. Create a function that calculates 10. b. for a given shape and color."
   ]
  },
  {
   "cell_type": "code",
   "execution_count": 13,
   "metadata": {},
   "outputs": [],
   "source": [
    "colorAreaProportion <- function(df, s, c){\n",
    "    # inputs: dataframe of shapes, colors, and areas; shape; color\n",
    "    # outputs: proportion of area of provided colored shape out of total area of provided shape\n",
    "    \n",
    "    # input validation\n",
    "    error = FALSE\n",
    "    msg = ''\n",
    "    if (!(s %in% unique(df$shape))){\n",
    "        error = TRUE\n",
    "        msg = paste(msg, 'Invalid shape.', sep=' ')\n",
    "    } \n",
    "    if (!(c %in% unique(df$color))){\n",
    "        error = TRUE\n",
    "        msg = paste(msg, 'Invalid color.', sep=' ')  \n",
    "    }\n",
    "        \n",
    "    if (error){\n",
    "        return (msg)\n",
    "    }\n",
    "        \n",
    "    # sum areas of given shape\n",
    "    data = subset(df, shape == s)\n",
    "    total = sum(data$area)\n",
    "    \n",
    "    # sum areas of given shape and color\n",
    "    data_color = subset(data, color == c)\n",
    "    area = sum(data_color$area)\n",
    "    \n",
    "    return (area / total)\n",
    "}"
   ]
  },
  {
   "cell_type": "code",
   "execution_count": 14,
   "metadata": {},
   "outputs": [
    {
     "name": "stdout",
     "output_type": "stream",
     "text": [
      "[1] \" Invalid shape. Invalid color.\"\n",
      "[1] \" Invalid color.\"\n",
      "[1] 0.4738856\n"
     ]
    }
   ],
   "source": [
    "# test\n",
    "print(colorAreaProportion(data, 'other', 'other'))\n",
    "print(colorAreaProportion(data, 'circle', 'other'))\n",
    "print(colorAreaProportion(data, 'triangle', 'blue'))"
   ]
  },
  {
   "cell_type": "code",
   "execution_count": null,
   "metadata": {},
   "outputs": [],
   "source": []
  }
 ],
 "metadata": {
  "kernelspec": {
   "display_name": "R",
   "language": "R",
   "name": "ir"
  },
  "language_info": {
   "codemirror_mode": "r",
   "file_extension": ".r",
   "mimetype": "text/x-r-source",
   "name": "R",
   "pygments_lexer": "r",
   "version": "3.5.1"
  }
 },
 "nbformat": 4,
 "nbformat_minor": 2
}
