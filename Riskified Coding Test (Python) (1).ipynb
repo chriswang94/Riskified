{
 "cells": [
  {
   "cell_type": "markdown",
   "metadata": {},
   "source": [
    "# Riskified\n",
    "## Coding Exercise (in Python)\n",
    "\n",
    "##### Author: Chris Wang  \n",
    "\n",
    "The purpose of this notebook is to answer the following questions about the provided data set, \"Analyst_Coding_Test_(1).csv\":\n",
    "1. Draw a boxplot showing the area size distribution for each shape.\n",
    "2. Calculate the mean, max, and standard deviation of the area size of each color.\n",
    "3. What is the average area size of a yellow square?\n",
    "4. Which shape is most likely to be green?\n",
    "5. Given the fact the the object is red, with an area size larger than 3,000 - what are the chances the object is a square? a triangle? a circle?\n",
    "6. Write a function that calculates the side or radios of an object, depending on the shape and area of the object [for an Equilateral triangle - area = (side ^ 2) * sqrt(3) / 4].\n",
    "7. Add a column to the dataset called \"side\" that shows the size matching the area in each row, round that number to the closest integer (shape side or radios).\n",
    "8. Draw a boxplot showing the side size distribution for each shape - what can you infer from this plot?\n",
    "9. Make a scatter plot with \"side\" on the x axis, \"area\" on the y axis with a different color for each shape.\n",
    "10. Create a dataframe, table or list that show for each shape:\n",
    "          a. The proportion of red objects within the shape\n",
    "          b. The proportion of blue area out of the shape's total area (sum of square inch blue area of the shape over sum of all shape size).\n",
    "11. Create a function that calculates 10. b. for a given shape and color.\n",
    "\n",
    "----\n",
    "----"
   ]
  },
  {
   "cell_type": "code",
   "execution_count": 1,
   "metadata": {},
   "outputs": [],
   "source": [
    "import pandas as pd\n",
    "import numpy as np\n",
    "\n",
    "import matplotlib.pyplot as plt\n",
    "from matplotlib import cm\n",
    "import seaborn as sns\n",
    "\n",
    "import os\n",
    "%matplotlib inline\n",
    "\n",
    "import math"
   ]
  },
  {
   "cell_type": "code",
   "execution_count": 2,
   "metadata": {},
   "outputs": [],
   "source": [
    "# Read in data\n",
    "data = pd.read_csv('Analyst_Coding_Test_(1).csv')"
   ]
  },
  {
   "cell_type": "markdown",
   "metadata": {},
   "source": [
    "Provided details:\n",
    "1. shape - square, triangle (equilateral) or circle\n",
    "2. color - blue, red, green or yellow\n",
    "3. area - area size in square inches"
   ]
  },
  {
   "cell_type": "code",
   "execution_count": 3,
   "metadata": {},
   "outputs": [
    {
     "data": {
      "text/html": [
       "<div>\n",
       "<style scoped>\n",
       "    .dataframe tbody tr th:only-of-type {\n",
       "        vertical-align: middle;\n",
       "    }\n",
       "\n",
       "    .dataframe tbody tr th {\n",
       "        vertical-align: top;\n",
       "    }\n",
       "\n",
       "    .dataframe thead th {\n",
       "        text-align: right;\n",
       "    }\n",
       "</style>\n",
       "<table border=\"1\" class=\"dataframe\">\n",
       "  <thead>\n",
       "    <tr style=\"text-align: right;\">\n",
       "      <th></th>\n",
       "      <th>shape</th>\n",
       "      <th>color</th>\n",
       "      <th>area</th>\n",
       "    </tr>\n",
       "  </thead>\n",
       "  <tbody>\n",
       "    <tr>\n",
       "      <th>count</th>\n",
       "      <td>1000</td>\n",
       "      <td>1000</td>\n",
       "      <td>1000.000000</td>\n",
       "    </tr>\n",
       "    <tr>\n",
       "      <th>unique</th>\n",
       "      <td>3</td>\n",
       "      <td>4</td>\n",
       "      <td>NaN</td>\n",
       "    </tr>\n",
       "    <tr>\n",
       "      <th>top</th>\n",
       "      <td>square</td>\n",
       "      <td>blue</td>\n",
       "      <td>NaN</td>\n",
       "    </tr>\n",
       "    <tr>\n",
       "      <th>freq</th>\n",
       "      <td>477</td>\n",
       "      <td>360</td>\n",
       "      <td>NaN</td>\n",
       "    </tr>\n",
       "    <tr>\n",
       "      <th>mean</th>\n",
       "      <td>NaN</td>\n",
       "      <td>NaN</td>\n",
       "      <td>3945.289900</td>\n",
       "    </tr>\n",
       "    <tr>\n",
       "      <th>std</th>\n",
       "      <td>NaN</td>\n",
       "      <td>NaN</td>\n",
       "      <td>4754.205318</td>\n",
       "    </tr>\n",
       "    <tr>\n",
       "      <th>min</th>\n",
       "      <td>NaN</td>\n",
       "      <td>NaN</td>\n",
       "      <td>0.800000</td>\n",
       "    </tr>\n",
       "    <tr>\n",
       "      <th>25%</th>\n",
       "      <td>NaN</td>\n",
       "      <td>NaN</td>\n",
       "      <td>758.250000</td>\n",
       "    </tr>\n",
       "    <tr>\n",
       "      <th>50%</th>\n",
       "      <td>NaN</td>\n",
       "      <td>NaN</td>\n",
       "      <td>2610.800000</td>\n",
       "    </tr>\n",
       "    <tr>\n",
       "      <th>75%</th>\n",
       "      <td>NaN</td>\n",
       "      <td>NaN</td>\n",
       "      <td>5492.450000</td>\n",
       "    </tr>\n",
       "    <tr>\n",
       "      <th>max</th>\n",
       "      <td>NaN</td>\n",
       "      <td>NaN</td>\n",
       "      <td>31415.900000</td>\n",
       "    </tr>\n",
       "  </tbody>\n",
       "</table>\n",
       "</div>"
      ],
      "text/plain": [
       "         shape color          area\n",
       "count     1000  1000   1000.000000\n",
       "unique       3     4           NaN\n",
       "top     square  blue           NaN\n",
       "freq       477   360           NaN\n",
       "mean       NaN   NaN   3945.289900\n",
       "std        NaN   NaN   4754.205318\n",
       "min        NaN   NaN      0.800000\n",
       "25%        NaN   NaN    758.250000\n",
       "50%        NaN   NaN   2610.800000\n",
       "75%        NaN   NaN   5492.450000\n",
       "max        NaN   NaN  31415.900000"
      ]
     },
     "execution_count": 3,
     "metadata": {},
     "output_type": "execute_result"
    }
   ],
   "source": [
    "data.describe(include = 'all')"
   ]
  },
  {
   "cell_type": "code",
   "execution_count": 4,
   "metadata": {},
   "outputs": [
    {
     "name": "stdout",
     "output_type": "stream",
     "text": [
      "shape    0\n",
      "color    0\n",
      "area     0\n",
      "dtype: int64\n"
     ]
    }
   ],
   "source": [
    "print(data.isna().sum())"
   ]
  },
  {
   "cell_type": "markdown",
   "metadata": {},
   "source": [
    "## 1. Draw a boxplot showing the area size distribution for each shape."
   ]
  },
  {
   "cell_type": "code",
   "execution_count": 5,
   "metadata": {},
   "outputs": [
    {
     "data": {
      "text/plain": [
       "Text(0.5, 1.0, 'Areas of Shapes')"
      ]
     },
     "execution_count": 5,
     "metadata": {},
     "output_type": "execute_result"
    },
    {
     "data": {
      "image/png": "[encoded data removed]",
      "text/plain": [
       "<Figure size 432x288 with 1 Axes>"
      ]
     },
     "metadata": {
      "needs_background": "light"
     },
     "output_type": "display_data"
    }
   ],
   "source": [
    "sns.boxplot(x='area', y='shape', data = data).set_title('Areas of Shapes')"
   ]
  },
  {
   "cell_type": "markdown",
   "metadata": {},
   "source": [
    "## 2. Calculate the mean, max, and standard deviation of the area size of each color."
   ]
  },
  {
   "cell_type": "code",
   "execution_count": 6,
   "metadata": {},
   "outputs": [
    {
     "data": {
      "text/html": [
       "<div>\n",
       "<style scoped>\n",
       "    .dataframe tbody tr th:only-of-type {\n",
       "        vertical-align: middle;\n",
       "    }\n",
       "\n",
       "    .dataframe tbody tr th {\n",
       "        vertical-align: top;\n",
       "    }\n",
       "\n",
       "    .dataframe thead tr th {\n",
       "        text-align: left;\n",
       "    }\n",
       "\n",
       "    .dataframe thead tr:last-of-type th {\n",
       "        text-align: right;\n",
       "    }\n",
       "</style>\n",
       "<table border=\"1\" class=\"dataframe\">\n",
       "  <thead>\n",
       "    <tr>\n",
       "      <th></th>\n",
       "      <th colspan=\"3\" halign=\"left\">area</th>\n",
       "    </tr>\n",
       "    <tr>\n",
       "      <th></th>\n",
       "      <th>mean</th>\n",
       "      <th>max</th>\n",
       "      <th>std</th>\n",
       "    </tr>\n",
       "    <tr>\n",
       "      <th>color</th>\n",
       "      <th></th>\n",
       "      <th></th>\n",
       "      <th></th>\n",
       "    </tr>\n",
       "  </thead>\n",
       "  <tbody>\n",
       "    <tr>\n",
       "      <th>blue</th>\n",
       "      <td>3208.131667</td>\n",
       "      <td>21642.4</td>\n",
       "      <td>3039.212965</td>\n",
       "    </tr>\n",
       "    <tr>\n",
       "      <th>green</th>\n",
       "      <td>5761.119231</td>\n",
       "      <td>27759.1</td>\n",
       "      <td>6695.029606</td>\n",
       "    </tr>\n",
       "    <tr>\n",
       "      <th>red</th>\n",
       "      <td>3815.871034</td>\n",
       "      <td>31415.9</td>\n",
       "      <td>5092.678377</td>\n",
       "    </tr>\n",
       "    <tr>\n",
       "      <th>yellow</th>\n",
       "      <td>4538.208088</td>\n",
       "      <td>31415.9</td>\n",
       "      <td>5352.460578</td>\n",
       "    </tr>\n",
       "  </tbody>\n",
       "</table>\n",
       "</div>"
      ],
      "text/plain": [
       "               area                      \n",
       "               mean      max          std\n",
       "color                                    \n",
       "blue    3208.131667  21642.4  3039.212965\n",
       "green   5761.119231  27759.1  6695.029606\n",
       "red     3815.871034  31415.9  5092.678377\n",
       "yellow  4538.208088  31415.9  5352.460578"
      ]
     },
     "execution_count": 6,
     "metadata": {},
     "output_type": "execute_result"
    }
   ],
   "source": [
    "byColor = data.groupby(by='color')\n",
    "byColor_describe = byColor.agg({'area':['mean', 'max', 'std']})\n",
    "byColor_describe"
   ]
  },
  {
   "cell_type": "markdown",
   "metadata": {},
   "source": [
    "## 3. What is the average area size of a yellow square?"
   ]
  },
  {
   "cell_type": "code",
   "execution_count": 7,
   "metadata": {},
   "outputs": [
    {
     "name": "stdout",
     "output_type": "stream",
     "text": [
      "The average area of the yellow squares is: 3333.21\n"
     ]
    }
   ],
   "source": [
    "avgArea_yellowSquare = round(data[(data['color'] == 'yellow') & (data['shape'] == 'square')]['area'].mean(),2)\n",
    "print('The average area of the yellow squares is: ' + str(avgArea_yellowSquare))"
   ]
  },
  {
   "cell_type": "markdown",
   "metadata": {},
   "source": [
    "## 4. Which shape is most likely to be green?\n",
    "(Interpreted as: Which shape has the highest chance of being green?)"
   ]
  },
  {
   "cell_type": "code",
   "execution_count": 8,
   "metadata": {},
   "outputs": [
    {
     "name": "stdout",
     "output_type": "stream",
     "text": [
      "The circle has the highest chance of being green with a chance of: 25.83%.\n"
     ]
    }
   ],
   "source": [
    "# calculate total count per shape\n",
    "byShape = data.groupby(by='shape')\n",
    "byShape_count = byShape.agg({'area':'count'})\n",
    "byShape_count.rename(columns={'area':'total'}, inplace=True)\n",
    "\n",
    "# calculate count per shape, per color\n",
    "byShapeColor = data.groupby(by=['shape','color'])\n",
    "byShapeColor_count = byShapeColor.agg({'area':'count'})\n",
    "byShapeColor_count.rename(columns={'area':'count'}, inplace=True)\n",
    "\n",
    "# join and calculate proportion of colors per shape\n",
    "byShapeColor_count = byShapeColor_count.join(byShape_count, on='shape')\n",
    "byShapeColor_count['% of Total'] = byShapeColor_count['count'] / byShapeColor_count['total']\n",
    "\n",
    "# extract the shape with highest proportion of greens\n",
    "byShapeColor_count.reset_index(inplace=True)\n",
    "greens = byShapeColor_count[byShapeColor_count['color'] == 'green']\n",
    "greens.sort_values(by='% of Total', ascending = False)\n",
    "\n",
    "# print\n",
    "greenShape = greens['shape'].iloc[0]\n",
    "greenChance = round(greens['% of Total'].iloc[0] * 100,2)\n",
    "print('The ' + greenShape + ' has the highest chance of being green with a chance of: ' + \\\n",
    "     str(greenChance) + '%.')"
   ]
  },
  {
   "cell_type": "markdown",
   "metadata": {},
   "source": [
    "# 5. Given the fact the the object is red, with an area size larger than 3,000 - what are the chances the object is a square? a triangle? a circle?"
   ]
  },
  {
   "cell_type": "code",
   "execution_count": 9,
   "metadata": {},
   "outputs": [
    {
     "data": {
      "text/html": [
       "<div>\n",
       "<style scoped>\n",
       "    .dataframe tbody tr th:only-of-type {\n",
       "        vertical-align: middle;\n",
       "    }\n",
       "\n",
       "    .dataframe tbody tr th {\n",
       "        vertical-align: top;\n",
       "    }\n",
       "\n",
       "    .dataframe thead th {\n",
       "        text-align: right;\n",
       "    }\n",
       "</style>\n",
       "<table border=\"1\" class=\"dataframe\">\n",
       "  <thead>\n",
       "    <tr style=\"text-align: right;\">\n",
       "      <th></th>\n",
       "      <th>% of Total</th>\n",
       "    </tr>\n",
       "    <tr>\n",
       "      <th>shape</th>\n",
       "      <th></th>\n",
       "    </tr>\n",
       "  </thead>\n",
       "  <tbody>\n",
       "    <tr>\n",
       "      <th>circle</th>\n",
       "      <td>16.0</td>\n",
       "    </tr>\n",
       "    <tr>\n",
       "      <th>square</th>\n",
       "      <td>16.8</td>\n",
       "    </tr>\n",
       "    <tr>\n",
       "      <th>triangle</th>\n",
       "      <td>67.2</td>\n",
       "    </tr>\n",
       "  </tbody>\n",
       "</table>\n",
       "</div>"
      ],
      "text/plain": [
       "          % of Total\n",
       "shape               \n",
       "circle          16.0\n",
       "square          16.8\n",
       "triangle        67.2"
      ]
     },
     "execution_count": 9,
     "metadata": {},
     "output_type": "execute_result"
    }
   ],
   "source": [
    "# filter for red objects with area larger than 3,000 sq. inches\n",
    "largeRed = data[(data['area'] > 3000) & (data['color'] == 'red')]\n",
    "\n",
    "# count total objects\n",
    "largeRed_total = largeRed['area'].count()\n",
    "\n",
    "# group by shape\n",
    "largeRed_byShape = largeRed.groupby(by='shape').agg({'area':'count'})\n",
    "largeRed_byShape.rename(columns={'area':'count'}, inplace=True)\n",
    "\n",
    "# calculate chances of each shape\n",
    "largeRed_byShape['% of Total'] = largeRed_byShape['count'] / largeRed_total * 100\n",
    "\n",
    "# print\n",
    "largeRed_byShape.drop('count', axis=1,inplace=True)\n",
    "largeRed_byShape"
   ]
  },
  {
   "cell_type": "markdown",
   "metadata": {},
   "source": [
    "## 6. Write a function that calculates the side or radios of an object, depending on the shape and area of the object [for an Equilateral triangle - area = (side ^ 2) * sqrt(3) / 4]."
   ]
  },
  {
   "cell_type": "code",
   "execution_count": 10,
   "metadata": {},
   "outputs": [],
   "source": [
    "def getSide(shape, area):\n",
    "    # input: shape and area\n",
    "    # output: length of side if square or equilateral triangle; length of radius if circle\n",
    "    \n",
    "    if (area < 0):\n",
    "        return('Invalid area')\n",
    "    \n",
    "    if shape == 'square':\n",
    "        return math.sqrt(area)\n",
    "    elif shape == 'circle':\n",
    "        return math.sqrt(area/math.pi)\n",
    "    elif shape == 'triangle':\n",
    "        return math.sqrt((area * 4) / math.sqrt(3))\n",
    "    else:\n",
    "        return('Unknown shape')"
   ]
  },
  {
   "cell_type": "markdown",
   "metadata": {},
   "source": [
    "## 7. Add a column to the dataset called \"side\" that shows the size matching the area in each row, round that number to the closest integer (shape side or radios)\n",
    "(Interpreting as: provide side length for square and triangle, radius for circle)"
   ]
  },
  {
   "cell_type": "code",
   "execution_count": 11,
   "metadata": {},
   "outputs": [
    {
     "data": {
      "text/html": [
       "<div>\n",
       "<style scoped>\n",
       "    .dataframe tbody tr th:only-of-type {\n",
       "        vertical-align: middle;\n",
       "    }\n",
       "\n",
       "    .dataframe tbody tr th {\n",
       "        vertical-align: top;\n",
       "    }\n",
       "\n",
       "    .dataframe thead th {\n",
       "        text-align: right;\n",
       "    }\n",
       "</style>\n",
       "<table border=\"1\" class=\"dataframe\">\n",
       "  <thead>\n",
       "    <tr style=\"text-align: right;\">\n",
       "      <th></th>\n",
       "      <th>shape</th>\n",
       "      <th>color</th>\n",
       "      <th>area</th>\n",
       "      <th>side</th>\n",
       "    </tr>\n",
       "  </thead>\n",
       "  <tbody>\n",
       "    <tr>\n",
       "      <th>0</th>\n",
       "      <td>square</td>\n",
       "      <td>yellow</td>\n",
       "      <td>9409.0</td>\n",
       "      <td>97</td>\n",
       "    </tr>\n",
       "    <tr>\n",
       "      <th>1</th>\n",
       "      <td>circle</td>\n",
       "      <td>yellow</td>\n",
       "      <td>4071.5</td>\n",
       "      <td>36</td>\n",
       "    </tr>\n",
       "    <tr>\n",
       "      <th>2</th>\n",
       "      <td>triangle</td>\n",
       "      <td>blue</td>\n",
       "      <td>2028.0</td>\n",
       "      <td>68</td>\n",
       "    </tr>\n",
       "    <tr>\n",
       "      <th>3</th>\n",
       "      <td>square</td>\n",
       "      <td>blue</td>\n",
       "      <td>3025.0</td>\n",
       "      <td>55</td>\n",
       "    </tr>\n",
       "    <tr>\n",
       "      <th>4</th>\n",
       "      <td>square</td>\n",
       "      <td>blue</td>\n",
       "      <td>9216.0</td>\n",
       "      <td>96</td>\n",
       "    </tr>\n",
       "    <tr>\n",
       "      <th>5</th>\n",
       "      <td>square</td>\n",
       "      <td>yellow</td>\n",
       "      <td>4356.0</td>\n",
       "      <td>66</td>\n",
       "    </tr>\n",
       "    <tr>\n",
       "      <th>6</th>\n",
       "      <td>circle</td>\n",
       "      <td>yellow</td>\n",
       "      <td>78.5</td>\n",
       "      <td>5</td>\n",
       "    </tr>\n",
       "    <tr>\n",
       "      <th>7</th>\n",
       "      <td>triangle</td>\n",
       "      <td>red</td>\n",
       "      <td>4563.0</td>\n",
       "      <td>103</td>\n",
       "    </tr>\n",
       "    <tr>\n",
       "      <th>8</th>\n",
       "      <td>square</td>\n",
       "      <td>yellow</td>\n",
       "      <td>1156.0</td>\n",
       "      <td>34</td>\n",
       "    </tr>\n",
       "    <tr>\n",
       "      <th>9</th>\n",
       "      <td>triangle</td>\n",
       "      <td>red</td>\n",
       "      <td>5043.0</td>\n",
       "      <td>108</td>\n",
       "    </tr>\n",
       "  </tbody>\n",
       "</table>\n",
       "</div>"
      ],
      "text/plain": [
       "      shape   color    area  side\n",
       "0    square  yellow  9409.0    97\n",
       "1    circle  yellow  4071.5    36\n",
       "2  triangle    blue  2028.0    68\n",
       "3    square    blue  3025.0    55\n",
       "4    square    blue  9216.0    96\n",
       "5    square  yellow  4356.0    66\n",
       "6    circle  yellow    78.5     5\n",
       "7  triangle     red  4563.0   103\n",
       "8    square  yellow  1156.0    34\n",
       "9  triangle     red  5043.0   108"
      ]
     },
     "execution_count": 11,
     "metadata": {},
     "output_type": "execute_result"
    }
   ],
   "source": [
    "data['side'] = data.apply(lambda x: round(getSide(x['shape'],x['area'])), axis=1)\n",
    "data.head(10)"
   ]
  },
  {
   "cell_type": "markdown",
   "metadata": {},
   "source": [
    "## 8. Draw a boxplot showing the side size distribution for each shape - what can you infer from this plot?"
   ]
  },
  {
   "cell_type": "code",
   "execution_count": 12,
   "metadata": {},
   "outputs": [
    {
     "data": {
      "text/plain": [
       "Text(0.5, 1.0, 'Side Length of Shapes')"
      ]
     },
     "execution_count": 12,
     "metadata": {},
     "output_type": "execute_result"
    },
    {
     "data": {
      "image/png": "[encoded data removed]",
      "text/plain": [
       "<Figure size 432x288 with 1 Axes>"
      ]
     },
     "metadata": {
      "needs_background": "light"
     },
     "output_type": "display_data"
    }
   ],
   "source": [
    "sns.boxplot(x='side', y='shape', data = data).set_title('Side Length of Shapes')"
   ]
  },
  {
   "cell_type": "markdown",
   "metadata": {},
   "source": [
    "Based on the above plot, I can infer the following pertaining to shape side sizes:\n",
    "1. the shape with the largest range, interquartile range, median, and maximum is the circle\n",
    "2. the distributions of the squares and circles skew slightly toward the larger side whereas the triangles skew slightly toward the smaller side (i.e. the smaller sides of squares tend to be closer than the larger sides and the same for circles)\n",
    "3. the minimums for all three shapes are similar, hovering around zero\n",
    "4. on average, the largest shape is the circle and the smallest shape is the square\n",
    "5. squares have the smallest distribution as well as smallest interquartile range and, therefore, the least amount of variability\n",
    "6. there do not appear to be any outliers for any shapes\n",
    "\n",
    "More technically speaking:\n",
    "1. 50% of all squares have a side length of between approx. 25 inches to 75 inches\n",
    "2. 50% of all circles have a side length of between approx. 50 inches to 90 inches\n",
    "3. 50% of all circles have a side length of between approx. 35 inches to 100 inches\n",
    "\n",
    "I would also be able to deduce that, given an object with an area larger than approx. 130 inches, that object is a circle."
   ]
  },
  {
   "cell_type": "markdown",
   "metadata": {},
   "source": [
    "## 9. Make a scatter plot with \"side\" on the x axis, \"area\" on the y axis with a different color for each shape."
   ]
  },
  {
   "cell_type": "code",
   "execution_count": 13,
   "metadata": {},
   "outputs": [
    {
     "data": {
      "text/plain": [
       "Text(0.5, 1.0, 'Area vs Side of Shapes')"
      ]
     },
     "execution_count": 13,
     "metadata": {},
     "output_type": "execute_result"
    },
    {
     "data": {
      "image/png": "[encoded data removed]",
      "text/plain": [
       "<Figure size 432x288 with 1 Axes>"
      ]
     },
     "metadata": {
      "needs_background": "light"
     },
     "output_type": "display_data"
    }
   ],
   "source": [
    "sns.scatterplot(x='side', y='area', data=data, hue='shape').set_title('Area vs Side of Shapes')"
   ]
  },
  {
   "cell_type": "markdown",
   "metadata": {},
   "source": [
    "## 10. Create a dataframe, table or list that show for each shape:  \n",
    "  a. The proportion of red objects within the shape  \n",
    "  b. The proportion of blue area out of the shape's total area (sum of square inch blue area of the shape over sum of all shape size).  "
   ]
  },
  {
   "cell_type": "code",
   "execution_count": 14,
   "metadata": {},
   "outputs": [
    {
     "data": {
      "text/html": [
       "<div>\n",
       "<style scoped>\n",
       "    .dataframe tbody tr th:only-of-type {\n",
       "        vertical-align: middle;\n",
       "    }\n",
       "\n",
       "    .dataframe tbody tr th {\n",
       "        vertical-align: top;\n",
       "    }\n",
       "\n",
       "    .dataframe thead th {\n",
       "        text-align: right;\n",
       "    }\n",
       "</style>\n",
       "<table border=\"1\" class=\"dataframe\">\n",
       "  <thead>\n",
       "    <tr style=\"text-align: right;\">\n",
       "      <th></th>\n",
       "      <th>Proportion of red objects</th>\n",
       "      <th>Proportion of blue area</th>\n",
       "    </tr>\n",
       "    <tr>\n",
       "      <th>shape</th>\n",
       "      <th></th>\n",
       "      <th></th>\n",
       "    </tr>\n",
       "  </thead>\n",
       "  <tbody>\n",
       "    <tr>\n",
       "      <th>circle</th>\n",
       "      <td>0.250000</td>\n",
       "      <td>0.061246</td>\n",
       "    </tr>\n",
       "    <tr>\n",
       "      <th>square</th>\n",
       "      <td>0.117400</td>\n",
       "      <td>0.360385</td>\n",
       "    </tr>\n",
       "    <tr>\n",
       "      <th>triangle</th>\n",
       "      <td>0.506203</td>\n",
       "      <td>0.473886</td>\n",
       "    </tr>\n",
       "  </tbody>\n",
       "</table>\n",
       "</div>"
      ],
      "text/plain": [
       "          Proportion of red objects  Proportion of blue area\n",
       "shape                                                       \n",
       "circle                     0.250000                 0.061246\n",
       "square                     0.117400                 0.360385\n",
       "triangle                   0.506203                 0.473886"
      ]
     },
     "execution_count": 14,
     "metadata": {},
     "output_type": "execute_result"
    }
   ],
   "source": [
    "# total count of red shapes per shape\n",
    "red = data[data['color'] == 'red']\n",
    "red_count = red.groupby(by='shape')['area'].agg('count')\n",
    "\n",
    "# total sum area of blue shapes per shape\n",
    "blue = data[data['color'] == 'blue']\n",
    "blue_sum = blue.groupby(by='shape')['area'].agg('sum')\n",
    "\n",
    "# total count and sum of areas by shape\n",
    "byShape_countSum = byShape.agg({'area':['count','sum']})\n",
    "byShape_countSum.columns = byShape_countSum.columns.droplevel()\n",
    "\n",
    "# join all data\n",
    "byShape_countSum_red_blue = byShape_countSum.merge(red_count, on='shape').merge(blue_sum, on='shape')\n",
    "\n",
    "# calculate proportions\n",
    "byShape_countSum_red_blue['Proportion of red objects'] = byShape_countSum_red_blue['area_x'] / byShape_countSum_red_blue['count']\n",
    "byShape_countSum_red_blue['Proportion of blue area'] = byShape_countSum_red_blue['area_y'] / byShape_countSum_red_blue['sum']\n",
    "\n",
    "# trim irrelevant columns\n",
    "byShape_countSum_red_blue = byShape_countSum_red_blue[['Proportion of red objects', 'Proportion of blue area']]\n",
    "byShape_countSum_red_blue"
   ]
  },
  {
   "cell_type": "markdown",
   "metadata": {},
   "source": [
    "## 11. Create a function that calculates 10. b. for a given shape and color."
   ]
  },
  {
   "cell_type": "code",
   "execution_count": 15,
   "metadata": {},
   "outputs": [],
   "source": [
    "def colorAreaProportion(df, shape, color):\n",
    "    # inputs: dataframe of shapes, colors, and areas; shape; color\n",
    "    # outputs: proportion of area of provided colored shape out of total area of provided shape\n",
    "    \n",
    "    # input validation\n",
    "    error = False\n",
    "    msg = ''\n",
    "    if shape not in df['shape'].unique(): \n",
    "        error = True\n",
    "        msg += 'Invalid shape. '\n",
    "    if color not in df['color'].unique(): \n",
    "        error = True\n",
    "        msg += 'Invalid color. '    \n",
    "    \n",
    "    if error:\n",
    "        return msg\n",
    "    \n",
    "    # sum areas of given shape\n",
    "    data = df[df['shape'] == shape]\n",
    "    total = data['area'].sum()\n",
    "    \n",
    "    # sum areas of given shape and color\n",
    "    data_color = data[data['color'] == color]\n",
    "    area = data_color['area'].sum()\n",
    "    \n",
    "    return (area / total)"
   ]
  },
  {
   "cell_type": "code",
   "execution_count": 16,
   "metadata": {},
   "outputs": [
    {
     "name": "stdout",
     "output_type": "stream",
     "text": [
      "Invalid shape. Invalid color. \n",
      "Invalid color. \n",
      "0.4738855857023727\n"
     ]
    }
   ],
   "source": [
    "# test\n",
    "print(colorAreaProportion(data, 'other', 'other'))\n",
    "print(colorAreaProportion(data, 'circle', 'other'))\n",
    "print(colorAreaProportion(data, 'triangle', 'blue'))"
   ]
  },
  {
   "cell_type": "code",
   "execution_count": null,
   "metadata": {},
   "outputs": [],
   "source": []
  }
 ],
 "metadata": {
  "kernelspec": {
   "display_name": "Python 3",
   "language": "python",
   "name": "python3"
  },
  "language_info": {
   "codemirror_mode": {
    "name": "ipython",
    "version": 3
   },
   "file_extension": ".py",
   "mimetype": "text/x-python",
   "name": "python",
   "nbconvert_exporter": "python",
   "pygments_lexer": "ipython3",
   "version": "3.6.8"
  }
 },
 "nbformat": 4,
 "nbformat_minor": 2
}
